{
  "nbformat": 4,
  "nbformat_minor": 0,
  "metadata": {
    "colab": {
      "provenance": [],
      "authorship_tag": "ABX9TyMIOWtHjweTBAW6ZRPCXd7i",
      "include_colab_link": true
    },
    "kernelspec": {
      "name": "python3",
      "display_name": "Python 3"
    },
    "language_info": {
      "name": "python"
    }
  },
  "cells": [
    {
      "cell_type": "markdown",
      "metadata": {
        "id": "view-in-github",
        "colab_type": "text"
      },
      "source": [
        "<a href=\"https://colab.research.google.com/github/Jhokowie007/PrototypeA001/blob/main/Untitled1.ipynb\" target=\"_parent\"><img src=\"https://colab.research.google.com/assets/colab-badge.svg\" alt=\"Open In Colab\"/></a>"
      ]
    },
    {
      "cell_type": "code",
      "execution_count": 10,
      "metadata": {
        "colab": {
          "base_uri": "https://localhost:8080/"
        },
        "id": "4bgZypUxBQ3F",
        "outputId": "208b0650-9a5d-47e0-9237-e3394a5631dc"
      },
      "outputs": [
        {
          "output_type": "stream",
          "name": "stdout",
          "text": [
            "5.0\n",
            "4.5\n",
            "Hello itu bilangan ?\n",
            "2.0\n",
            "5.0\n"
          ]
        }
      ],
      "source": [
        "data = [10,9,\"Hello\",4,\"10\"]\n",
        "for e in data:\n",
        "  try:\n",
        "    print(int(e)/2)\n",
        "  except:\n",
        "    print(f\"{e} itu bilangan ?\")"
      ]
    },
    {
      "cell_type": "markdown",
      "source": [],
      "metadata": {
        "id": "Dnmf2TlWJuZo"
      }
    }
  ]
}