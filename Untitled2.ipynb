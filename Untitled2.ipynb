{
  "nbformat": 4,
  "nbformat_minor": 0,
  "metadata": {
    "colab": {
      "provenance": [],
      "authorship_tag": "ABX9TyOS1k5T5LsnFZOjckgDVSgY",
      "include_colab_link": true
    },
    "kernelspec": {
      "name": "python3",
      "display_name": "Python 3"
    },
    "language_info": {
      "name": "python"
    }
  },
  "cells": [
    {
      "cell_type": "markdown",
      "metadata": {
        "id": "view-in-github",
        "colab_type": "text"
      },
      "source": [
        "<a href=\"https://colab.research.google.com/github/Jhokowie007/PrototypeA001/blob/main/Untitled2.ipynb\" target=\"_parent\"><img src=\"https://colab.research.google.com/assets/colab-badge.svg\" alt=\"Open In Colab\"/></a>"
      ]
    },
    {
      "cell_type": "code",
      "execution_count": 2,
      "metadata": {
        "colab": {
          "base_uri": "https://localhost:8080/"
        },
        "id": "HsDR-PlTN0NJ",
        "outputId": "df107adf-f1d0-4920-82cd-9bb0da0ed40d"
      },
      "outputs": [
        {
          "output_type": "stream",
          "name": "stdout",
          "text": [
            "  Nama Siswa       Alamat   Kelas  Nilai\n",
            "0   Shantara         Pare   X-RPL      9\n",
            "1      Agnia        Bendo    X-TG      8\n",
            "2     Shanum        Puncu   X-RPL      6\n",
            "3      Kenan  Plosoklaten    X-AK      7\n",
            "4      Daffa        Wates    X-PM      8\n",
            "5      Arumi      Kunjang   X-DKV      9\n",
            "6     Elshan     Plemahan    X-TB      6\n",
            "7       widi        Siman  X-TITL      7\n"
          ]
        }
      ],
      "source": [
        "import pandas\n",
        "\n",
        "data = [9,8,6,7,8,9,6,7]\n",
        "siswa = ['Shantara','Agnia','Shanum','Kenan','Daffa','Arumi','Elshan','widi']\n",
        "alamat= ['Pare','Bendo','Puncu','Plosoklaten','Wates','Kunjang','Plemahan','Siman']\n",
        "kelas = ['X-RPL','X-TG','X-RPL','X-AK','X-PM','X-DKV','X-TB','X-TITL']\n",
        "\n",
        "nilai = pandas.DataFrame({\n",
        "    \"Nama Siswa\" : siswa, \"Alamat\" : alamat, \"Kelas\" : kelas, \"Nilai\" : data\n",
        "})\n",
        "\n",
        "print(nilai)"
      ]
    }
  ]
}