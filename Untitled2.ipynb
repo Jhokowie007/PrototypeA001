{
  "nbformat": 4,
  "nbformat_minor": 0,
  "metadata": {
    "colab": {
      "provenance": [],
      "authorship_tag": "ABX9TyNDWmiz/h2IOQ6RVR+a/pOS",
      "include_colab_link": true
    },
    "kernelspec": {
      "name": "python3",
      "display_name": "Python 3"
    },
    "language_info": {
      "name": "python"
    }
  },
  "cells": [
    {
      "cell_type": "markdown",
      "metadata": {
        "id": "view-in-github",
        "colab_type": "text"
      },
      "source": [
        "<a href=\"https://colab.research.google.com/github/Jhokowie007/PrototypeA001/blob/main/Untitled2.ipynb\" target=\"_parent\"><img src=\"https://colab.research.google.com/assets/colab-badge.svg\" alt=\"Open In Colab\"/></a>"
      ]
    },
    {
      "cell_type": "code",
      "execution_count": null,
      "metadata": {
        "id": "9As-N_XSRffB"
      },
      "outputs": [],
      "source": [
        "import requests\n",
        "from bs4 import BeautifulSoup\n",
        "\n",
        "url = \"https://www.w3schools.com/html/default.asp\"\n",
        "response = requests.get(url)\n",
        "soup = BeautifulSoup(response.content, \"html.parser\")\n",
        "print(soup)\n"
      ]
    },
    {
      "cell_type": "code",
      "source": [
        "import requests\n",
        "from bs4 import BeautifulSoup\n",
        "\n",
        "url = \"https://www.w3schools.com/html/default.asp\"\n",
        "response = requests.get(url)\n",
        "soup = BeautifulSoup(response.content, \"html.parser\")\n",
        "style_tags = soup.find_all(\"style\")\n",
        "for style_tag in style_tags:\n",
        "    style_content = style_tag.get_text()\n",
        "    print(style_content)\n"
      ],
      "metadata": {
        "id": "UWfUC69FRjaJ"
      },
      "execution_count": null,
      "outputs": []
    },
    {
      "cell_type": "code",
      "source": [
        "import requests\n",
        "from bs4 import BeautifulSoup\n",
        "\n",
        "url = \"https://www.w3schools.com/html/default.asp\"\n",
        "response = requests.get(url)\n",
        "soup = BeautifulSoup(response.content, \"html.parser\")\n",
        "script_tags = soup.find_all(\"script\")\n",
        "for script_tag in script_tags:\n",
        "    script_content = script_tag.get_text()\n",
        "    print(script_content)\n"
      ],
      "metadata": {
        "id": "sAkus2rJRnNZ"
      },
      "execution_count": null,
      "outputs": []
    }
  ]
}