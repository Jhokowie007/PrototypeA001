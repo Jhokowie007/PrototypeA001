{
  "nbformat": 4,
  "nbformat_minor": 0,
  "metadata": {
    "colab": {
      "provenance": [],
      "authorship_tag": "ABX9TyPIidcjkObBs1rdKnYIrHPn",
      "include_colab_link": true
    },
    "kernelspec": {
      "name": "python3",
      "display_name": "Python 3"
    },
    "language_info": {
      "name": "python"
    }
  },
  "cells": [
    {
      "cell_type": "markdown",
      "metadata": {
        "id": "view-in-github",
        "colab_type": "text"
      },
      "source": [
        "<a href=\"https://colab.research.google.com/github/Jhokowie007/PrototypeA001/blob/main/Untitled0.ipynb\" target=\"_parent\"><img src=\"https://colab.research.google.com/assets/colab-badge.svg\" alt=\"Open In Colab\"/></a>"
      ]
    },
    {
      "cell_type": "code",
      "source": [
        "lol = input(\"isi dulu kang \")\n",
        "for lol in range(1000):\n",
        "    print(\"Hola Mundo\")\n",
        "\n",
        "while lol <= 1000:\n",
        "  print(\"Hola Mundo\")\n",
        "  lol+=1"
      ],
      "metadata": {
        "id": "KvsGaZOFBLnr"
      },
      "execution_count": null,
      "outputs": []
    },
    {
      "cell_type": "markdown",
      "source": [
        "https://dev.to/codeledger/how-to-get-visual-studio-code-to-run-in-termux-on-android-405j"
      ],
      "metadata": {
        "id": "lWf2whBvQc06"
      }
    },
    {
      "cell_type": "markdown",
      "source": [
        "https://github.com/everskyblue/termux-vscode-guide"
      ],
      "metadata": {
        "id": "RG9fFdYYPSIz"
      }
    },
    {
      "cell_type": "code",
      "source": [
        "a = 1024\n",
        "b = input(\"isi nomor dulu cak \")\n",
        "b = int(b)\n",
        "d = (\" Megabyte\")\n",
        "c = str(a * b) + d\n",
        "print(c)"
      ],
      "metadata": {
        "id": "YIKE28MzO_J7"
      },
      "execution_count": null,
      "outputs": []
    },
    {
      "cell_type": "code",
      "source": [
        "data=[10,9,7,8,10,8]\n",
        "index=0\n",
        "for elemen in data:\n",
        "  print(\"elemen ke \" , index , \"=\" , elemen)\n",
        "  index=index+1"
      ],
      "metadata": {
        "colab": {
          "base_uri": "https://localhost:8080/"
        },
        "id": "Pzx3l0X1PDj8",
        "outputId": "73549e49-9b90-4aaa-8860-a6f8696385c0"
      },
      "execution_count": 37,
      "outputs": [
        {
          "output_type": "stream",
          "name": "stdout",
          "text": [
            "elemen ke  0 = 10\n",
            "elemen ke  1 = 9\n",
            "elemen ke  2 = 7\n",
            "elemen ke  3 = 8\n",
            "elemen ke  4 = 10\n",
            "elemen ke  5 = 8\n"
          ]
        }
      ]
    }
  ]
}